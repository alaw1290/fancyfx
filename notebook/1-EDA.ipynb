{
 "cells": [
  {
   "cell_type": "code",
   "execution_count": 94,
   "metadata": {
    "collapsed": false
   },
   "outputs": [],
   "source": [
    "# default libs\n",
    "# import os\n",
    "# import sys\n",
    "from collections import defaultdict\n",
    "# data processing libraries\n",
    "import numpy as np\n",
    "import pandas as pd"
   ]
  },
  {
   "cell_type": "markdown",
   "metadata": {},
   "source": [
    "# EDA Notebook\n",
    "investigate sample month and verify data integrity"
   ]
  },
  {
   "cell_type": "code",
   "execution_count": 85,
   "metadata": {
    "collapsed": false
   },
   "outputs": [
    {
     "name": "stdout",
     "output_type": "stream",
     "text": [
      "CPU times: user 34.8 s, sys: 4.46 s, total: 39.3 s\n",
      "Wall time: 38.7 s\n"
     ]
    }
   ],
   "source": [
    "%%time\n",
    "# read in processed dataframe\n",
    "with open('../data/processed/2017/01 January/data47.csv', 'r') as file:\n",
    "    jan_df = pd.read_csv(file)\n",
    "    # set datetime column to correct format\n",
    "    jan_df['RateDateTime'] = pd.to_datetime(jan_df['RateDateTime'] * 1000000,unit='us')"
   ]
  },
  {
   "cell_type": "code",
   "execution_count": 88,
   "metadata": {
    "collapsed": false
   },
   "outputs": [],
   "source": [
    "# check that datetimecolumn is ordered\n",
    "assert pd.Index(jan_df['RateDateTime']).is_monotonic"
   ]
  },
  {
   "cell_type": "code",
   "execution_count": 91,
   "metadata": {
    "collapsed": false
   },
   "outputs": [],
   "source": [
    "# check that all columns have no null/missing values\n",
    "assert not jan_df.isnull().values.any()"
   ]
  },
  {
   "cell_type": "code",
   "execution_count": 93,
   "metadata": {
    "collapsed": false
   },
   "outputs": [
    {
     "data": {
      "text/plain": [
       "array(['USD/JPY', 'EUR/USD', 'GBP/USD', 'USD/CHF', 'AUD/USD', 'USD/CAD',\n",
       "       'NZD/USD', 'NZD/CHF', 'GBP/NZD', 'NZD/CAD', 'NZD/JPY', 'GBP/JPY',\n",
       "       'EUR/CAD', 'GBP/CHF', 'GBP/AUD', 'GBP/CAD', 'EUR/AUD', 'CHF/JPY',\n",
       "       'EUR/JPY', 'EUR/NZD', 'EUR/GBP', 'AUD/CHF', 'AUD/JPY', 'AUD/NZD',\n",
       "       'CAD/CHF', 'EUR/CHF', 'AUD/CAD', 'CAD/JPY'], dtype=object)"
      ]
     },
     "execution_count": 93,
     "metadata": {},
     "output_type": "execute_result"
    }
   ],
   "source": [
    "# get the range of currency paris in CurrencyPair\n",
    "jan_df['CurrencyPair'].unique()"
   ]
  },
  {
   "cell_type": "code",
   "execution_count": 101,
   "metadata": {
    "collapsed": false
   },
   "outputs": [
    {
     "data": {
      "text/plain": [
       "defaultdict(set,\n",
       "            {'AUD': {'CAD', 'CHF', 'EUR', 'GBP', 'JPY', 'NZD', 'USD'},\n",
       "             'CAD': {'AUD', 'CHF', 'EUR', 'GBP', 'JPY', 'NZD', 'USD'},\n",
       "             'CHF': {'AUD', 'CAD', 'EUR', 'GBP', 'JPY', 'NZD', 'USD'},\n",
       "             'EUR': {'AUD', 'CAD', 'CHF', 'GBP', 'JPY', 'NZD', 'USD'},\n",
       "             'GBP': {'AUD', 'CAD', 'CHF', 'EUR', 'JPY', 'NZD', 'USD'},\n",
       "             'JPY': {'AUD', 'CAD', 'CHF', 'EUR', 'GBP', 'NZD', 'USD'},\n",
       "             'NZD': {'AUD', 'CAD', 'CHF', 'EUR', 'GBP', 'JPY', 'USD'},\n",
       "             'USD': {'AUD', 'CAD', 'CHF', 'EUR', 'GBP', 'JPY', 'NZD'}})"
      ]
     },
     "execution_count": 101,
     "metadata": {},
     "output_type": "execute_result"
    }
   ],
   "source": [
    "# check for the completeness of all available currency pairs\n",
    "edges = defaultdict(set)\n",
    "for pair in jan_df['CurrencyPair'].unique():\n",
    "    cur_a, cur_b = sorted(pair.split('/'))\n",
    "    edges[cur_a].add(cur_b)\n",
    "    edges[cur_b].add(cur_a)\n",
    "edges"
   ]
  },
  {
   "cell_type": "code",
   "execution_count": 117,
   "metadata": {
    "collapsed": false
   },
   "outputs": [
    {
     "data": {
      "text/html": [
       "<div>\n",
       "<table border=\"1\" class=\"dataframe\">\n",
       "  <thead>\n",
       "    <tr style=\"text-align: right;\">\n",
       "      <th></th>\n",
       "      <th>RateBid</th>\n",
       "      <th>RateBid</th>\n",
       "      <th>RateAsk</th>\n",
       "      <th>RateAsk</th>\n",
       "    </tr>\n",
       "    <tr>\n",
       "      <th>CurrencyPair</th>\n",
       "      <th></th>\n",
       "      <th></th>\n",
       "      <th></th>\n",
       "      <th></th>\n",
       "    </tr>\n",
       "  </thead>\n",
       "  <tbody>\n",
       "    <tr>\n",
       "      <th>AUD/CAD</th>\n",
       "      <td>0.95976</td>\n",
       "      <td>1.01015</td>\n",
       "      <td>0.96059</td>\n",
       "      <td>1.01033</td>\n",
       "    </tr>\n",
       "    <tr>\n",
       "      <th>AUD/CHF</th>\n",
       "      <td>0.73168</td>\n",
       "      <td>0.76411</td>\n",
       "      <td>0.73228</td>\n",
       "      <td>0.76424</td>\n",
       "    </tr>\n",
       "    <tr>\n",
       "      <th>AUD/JPY</th>\n",
       "      <td>84.10800</td>\n",
       "      <td>87.08800</td>\n",
       "      <td>84.16200</td>\n",
       "      <td>87.09500</td>\n",
       "    </tr>\n",
       "    <tr>\n",
       "      <th>AUD/NZD</th>\n",
       "      <td>1.03258</td>\n",
       "      <td>1.05710</td>\n",
       "      <td>1.03273</td>\n",
       "      <td>1.05724</td>\n",
       "    </tr>\n",
       "    <tr>\n",
       "      <th>AUD/USD</th>\n",
       "      <td>0.71644</td>\n",
       "      <td>0.76960</td>\n",
       "      <td>0.71664</td>\n",
       "      <td>0.76965</td>\n",
       "    </tr>\n",
       "    <tr>\n",
       "      <th>CAD/CHF</th>\n",
       "      <td>0.74993</td>\n",
       "      <td>0.77381</td>\n",
       "      <td>0.74999</td>\n",
       "      <td>0.77388</td>\n",
       "    </tr>\n",
       "    <tr>\n",
       "      <th>CAD/JPY</th>\n",
       "      <td>84.80200</td>\n",
       "      <td>88.65200</td>\n",
       "      <td>84.80600</td>\n",
       "      <td>88.66400</td>\n",
       "    </tr>\n",
       "    <tr>\n",
       "      <th>CHF/JPY</th>\n",
       "      <td>112.32000</td>\n",
       "      <td>115.40600</td>\n",
       "      <td>112.37700</td>\n",
       "      <td>115.41800</td>\n",
       "    </tr>\n",
       "    <tr>\n",
       "      <th>EUR/AUD</th>\n",
       "      <td>1.39976</td>\n",
       "      <td>1.46374</td>\n",
       "      <td>1.39994</td>\n",
       "      <td>1.46492</td>\n",
       "    </tr>\n",
       "    <tr>\n",
       "      <th>EUR/CAD</th>\n",
       "      <td>1.38545</td>\n",
       "      <td>1.43074</td>\n",
       "      <td>1.38561</td>\n",
       "      <td>1.43087</td>\n",
       "    </tr>\n",
       "    <tr>\n",
       "      <th>EUR/CHF</th>\n",
       "      <td>1.06373</td>\n",
       "      <td>1.07508</td>\n",
       "      <td>1.06380</td>\n",
       "      <td>1.07510</td>\n",
       "    </tr>\n",
       "    <tr>\n",
       "      <th>EUR/GBP</th>\n",
       "      <td>0.84502</td>\n",
       "      <td>0.88518</td>\n",
       "      <td>0.84508</td>\n",
       "      <td>0.88531</td>\n",
       "    </tr>\n",
       "    <tr>\n",
       "      <th>EUR/JPY</th>\n",
       "      <td>120.53400</td>\n",
       "      <td>123.72200</td>\n",
       "      <td>120.55100</td>\n",
       "      <td>123.73200</td>\n",
       "    </tr>\n",
       "    <tr>\n",
       "      <th>EUR/NZD</th>\n",
       "      <td>1.46487</td>\n",
       "      <td>1.51915</td>\n",
       "      <td>1.46516</td>\n",
       "      <td>1.51958</td>\n",
       "    </tr>\n",
       "    <tr>\n",
       "      <th>EUR/USD</th>\n",
       "      <td>1.03406</td>\n",
       "      <td>1.08287</td>\n",
       "      <td>1.03408</td>\n",
       "      <td>1.08292</td>\n",
       "    </tr>\n",
       "    <tr>\n",
       "      <th>GBP/AUD</th>\n",
       "      <td>1.60204</td>\n",
       "      <td>1.72049</td>\n",
       "      <td>1.60266</td>\n",
       "      <td>1.72129</td>\n",
       "    </tr>\n",
       "    <tr>\n",
       "      <th>GBP/CAD</th>\n",
       "      <td>1.57367</td>\n",
       "      <td>1.66276</td>\n",
       "      <td>1.57394</td>\n",
       "      <td>1.66315</td>\n",
       "    </tr>\n",
       "    <tr>\n",
       "      <th>GBP/CHF</th>\n",
       "      <td>1.21059</td>\n",
       "      <td>1.26614</td>\n",
       "      <td>1.21137</td>\n",
       "      <td>1.26630</td>\n",
       "    </tr>\n",
       "    <tr>\n",
       "      <th>GBP/JPY</th>\n",
       "      <td>136.45000</td>\n",
       "      <td>145.39400</td>\n",
       "      <td>136.48400</td>\n",
       "      <td>145.40500</td>\n",
       "    </tr>\n",
       "    <tr>\n",
       "      <th>GBP/NZD</th>\n",
       "      <td>1.68278</td>\n",
       "      <td>1.78214</td>\n",
       "      <td>1.68394</td>\n",
       "      <td>1.78473</td>\n",
       "    </tr>\n",
       "    <tr>\n",
       "      <th>GBP/USD</th>\n",
       "      <td>1.19866</td>\n",
       "      <td>1.27060</td>\n",
       "      <td>1.19882</td>\n",
       "      <td>1.27066</td>\n",
       "    </tr>\n",
       "    <tr>\n",
       "      <th>NZD/CAD</th>\n",
       "      <td>0.92050</td>\n",
       "      <td>0.96285</td>\n",
       "      <td>0.92063</td>\n",
       "      <td>0.96289</td>\n",
       "    </tr>\n",
       "    <tr>\n",
       "      <th>NZD/CHF</th>\n",
       "      <td>0.70525</td>\n",
       "      <td>0.73045</td>\n",
       "      <td>0.70615</td>\n",
       "      <td>0.73125</td>\n",
       "    </tr>\n",
       "    <tr>\n",
       "      <th>NZD/JPY</th>\n",
       "      <td>80.72200</td>\n",
       "      <td>83.79900</td>\n",
       "      <td>80.73500</td>\n",
       "      <td>83.81200</td>\n",
       "    </tr>\n",
       "    <tr>\n",
       "      <th>NZD/USD</th>\n",
       "      <td>0.68847</td>\n",
       "      <td>0.73498</td>\n",
       "      <td>0.68854</td>\n",
       "      <td>0.73507</td>\n",
       "    </tr>\n",
       "    <tr>\n",
       "      <th>USD/CAD</th>\n",
       "      <td>1.29689</td>\n",
       "      <td>1.34606</td>\n",
       "      <td>1.29698</td>\n",
       "      <td>1.34612</td>\n",
       "    </tr>\n",
       "    <tr>\n",
       "      <th>USD/CHF</th>\n",
       "      <td>0.98610</td>\n",
       "      <td>1.03349</td>\n",
       "      <td>0.98618</td>\n",
       "      <td>1.03356</td>\n",
       "    </tr>\n",
       "    <tr>\n",
       "      <th>USD/JPY</th>\n",
       "      <td>112.05100</td>\n",
       "      <td>118.60500</td>\n",
       "      <td>112.05800</td>\n",
       "      <td>118.61000</td>\n",
       "    </tr>\n",
       "  </tbody>\n",
       "</table>\n",
       "</div>"
      ],
      "text/plain": [
       "                RateBid    RateBid    RateAsk    RateAsk\n",
       "CurrencyPair                                            \n",
       "AUD/CAD         0.95976    1.01015    0.96059    1.01033\n",
       "AUD/CHF         0.73168    0.76411    0.73228    0.76424\n",
       "AUD/JPY        84.10800   87.08800   84.16200   87.09500\n",
       "AUD/NZD         1.03258    1.05710    1.03273    1.05724\n",
       "AUD/USD         0.71644    0.76960    0.71664    0.76965\n",
       "CAD/CHF         0.74993    0.77381    0.74999    0.77388\n",
       "CAD/JPY        84.80200   88.65200   84.80600   88.66400\n",
       "CHF/JPY       112.32000  115.40600  112.37700  115.41800\n",
       "EUR/AUD         1.39976    1.46374    1.39994    1.46492\n",
       "EUR/CAD         1.38545    1.43074    1.38561    1.43087\n",
       "EUR/CHF         1.06373    1.07508    1.06380    1.07510\n",
       "EUR/GBP         0.84502    0.88518    0.84508    0.88531\n",
       "EUR/JPY       120.53400  123.72200  120.55100  123.73200\n",
       "EUR/NZD         1.46487    1.51915    1.46516    1.51958\n",
       "EUR/USD         1.03406    1.08287    1.03408    1.08292\n",
       "GBP/AUD         1.60204    1.72049    1.60266    1.72129\n",
       "GBP/CAD         1.57367    1.66276    1.57394    1.66315\n",
       "GBP/CHF         1.21059    1.26614    1.21137    1.26630\n",
       "GBP/JPY       136.45000  145.39400  136.48400  145.40500\n",
       "GBP/NZD         1.68278    1.78214    1.68394    1.78473\n",
       "GBP/USD         1.19866    1.27060    1.19882    1.27066\n",
       "NZD/CAD         0.92050    0.96285    0.92063    0.96289\n",
       "NZD/CHF         0.70525    0.73045    0.70615    0.73125\n",
       "NZD/JPY        80.72200   83.79900   80.73500   83.81200\n",
       "NZD/USD         0.68847    0.73498    0.68854    0.73507\n",
       "USD/CAD         1.29689    1.34606    1.29698    1.34612\n",
       "USD/CHF         0.98610    1.03349    0.98618    1.03356\n",
       "USD/JPY       112.05100  118.60500  112.05800  118.61000"
      ]
     },
     "execution_count": 117,
     "metadata": {},
     "output_type": "execute_result"
    }
   ],
   "source": [
    "# get range of ask and bid prices for each currency pair\n",
    "currency_pairs_grouped = jan_df.groupby(['CurrencyPair'])\n",
    "min_bid = currency_pairs_grouped['RateBid'].min()\n",
    "max_bid = currency_pairs_grouped['RateBid'].max()\n",
    "min_ask = currency_pairs_grouped['RateAsk'].min()\n",
    "max_ask = currency_pairs_grouped['RateAsk'].max()\n",
    "pd.concat([min_bid,max_bid,min_ask,max_ask], axis=1)"
   ]
  },
  {
   "cell_type": "code",
   "execution_count": null,
   "metadata": {
    "collapsed": true
   },
   "outputs": [],
   "source": []
  }
 ],
 "metadata": {
  "anaconda-cloud": {},
  "kernelspec": {
   "display_name": "Python [conda root]",
   "language": "python",
   "name": "conda-root-py"
  },
  "language_info": {
   "codemirror_mode": {
    "name": "ipython",
    "version": 3
   },
   "file_extension": ".py",
   "mimetype": "text/x-python",
   "name": "python",
   "nbconvert_exporter": "python",
   "pygments_lexer": "ipython3",
   "version": "3.5.2"
  }
 },
 "nbformat": 4,
 "nbformat_minor": 1
}
